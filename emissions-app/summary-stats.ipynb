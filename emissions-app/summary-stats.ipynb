{
 "cells": [
  {
   "cell_type": "code",
   "execution_count": 7,
   "metadata": {},
   "outputs": [],
   "source": [
    "import datetime as dt\n",
    "stats = [\n",
    "    {\"co2_emissions_kg\":1.26,\"date\":dt.datetime(2024,1,2),\"distance\":36,\"transport_mode\":\"train\",\"transport_mode_friendly\":\"Train\"},\n",
    "    {\"co2_emissions_kg\":2.448,\"date\": dt.datetime(2024,1,2),\"distance\":36,\"transport_mode\":\"car_plugin_hybrid\",\"transport_mode_friendly\":\"Car (Plugin Hybrid)\"},\n",
    "    {\"co2_emissions_kg\":2.788,\"date\": dt.datetime(2024,1,1),\"distance\":41,\"transport_mode\":\"car_plugin_hybrid\",\"transport_mode_friendly\":\"Car (Plugin Hybrid)\"},\n",
    "    {\"co2_emissions_kg\":3.196,\"date\": dt.datetime(2024,1,1),\"distance\":47,\"transport_mode\":\"car_plugin_hybrid\",\"transport_mode_friendly\":\"Car (Plugin Hybrid)\"},\n",
    "]"
   ]
  },
  {
   "cell_type": "code",
   "execution_count": 14,
   "metadata": {},
   "outputs": [
    {
     "data": {
      "text/plain": [
       "{20240102: [{'co2_emissions_kg': 1.26,\n",
       "   'date': datetime.date(2024, 1, 2),\n",
       "   'distance': 36,\n",
       "   'transport_mode': 'train',\n",
       "   'transport_mode_friendly': 'Train'},\n",
       "  {'co2_emissions_kg': 2.448,\n",
       "   'date': datetime.date(2024, 1, 2),\n",
       "   'distance': 36,\n",
       "   'transport_mode': 'car_plugin_hybrid',\n",
       "   'transport_mode_friendly': 'Car (Plugin Hybrid)'}],\n",
       " 20240101: [{'co2_emissions_kg': 2.788,\n",
       "   'date': datetime.date(2024, 1, 1),\n",
       "   'distance': 41,\n",
       "   'transport_mode': 'car_plugin_hybrid',\n",
       "   'transport_mode_friendly': 'Car (Plugin Hybrid)'},\n",
       "  {'co2_emissions_kg': 3.196,\n",
       "   'date': datetime.date(2024, 1, 1),\n",
       "   'distance': 47,\n",
       "   'transport_mode': 'car_plugin_hybrid',\n",
       "   'transport_mode_friendly': 'Car (Plugin Hybrid)'}]}"
      ]
     },
     "execution_count": 14,
     "metadata": {},
     "output_type": "execute_result"
    }
   ],
   "source": [
    "from itertools import groupby\n",
    "import datetime as dt\n",
    "\n",
    "date_to_int = lambda x: int(x[\"date\"].strftime(\"%Y%m%d\"))\n",
    "grouped_by_date = {k: list(v) for k, v in groupby(stats, key=date_to_int)}\n",
    "\n",
    "grouped_by_date"
   ]
  },
  {
   "cell_type": "code",
   "execution_count": 21,
   "metadata": {},
   "outputs": [],
   "source": [
    "\n",
    "def get_total_emissions(stats):\n",
    "    \n",
    "    total_emissions = sum([stat[\"co2_emissions_kg\"] for stat in stats])\n",
    "    return total_emissions\n",
    "\n",
    "def get_average_emissions(stats):\n",
    "    total_emissions = get_total_emissions(stats)\n",
    "    return total_emissions / len(stats)\n",
    "\n",
    "def get_average_distance(stats):\n",
    "    total_distance = sum([stat[\"distance\"] for stat in stats])\n",
    "    return total_distance / len(stats)"
   ]
  },
  {
   "cell_type": "code",
   "execution_count": 22,
   "metadata": {},
   "outputs": [
    {
     "data": {
      "text/plain": [
       "[EmissionsSummary(date=20240102, total_emissions=3.708, average_emissions=1.854, average_distance=36.0),\n",
       " EmissionsSummary(date=20240101, total_emissions=5.984, average_emissions=2.992, average_distance=44.0)]"
      ]
     },
     "execution_count": 22,
     "metadata": {},
     "output_type": "execute_result"
    }
   ],
   "source": [
    "from dataclasses import dataclass\n",
    "\n",
    "@dataclass\n",
    "class EmissionsSummary:\n",
    "    date: dt.datetime\n",
    "    total_emissions: float\n",
    "    average_emissions: float\n",
    "    average_distance: float\n",
    "\n",
    "emissions_summaries = [EmissionsSummary(date, get_total_emissions(stats), get_average_emissions(stats), get_average_distance(stats)) for date, stats in grouped_by_date.items()]   \n",
    "emissions_summaries"
   ]
  },
  {
   "cell_type": "code",
   "execution_count": 23,
   "metadata": {},
   "outputs": [
    {
     "data": {
      "text/plain": [
       "4.846"
      ]
     },
     "execution_count": 23,
     "metadata": {},
     "output_type": "execute_result"
    }
   ],
   "source": [
    "avg_emissions = sum([summary.total_emissions for summary in emissions_summaries]) / len(emissions_summaries)\n",
    "avg_emissions"
   ]
  },
  {
   "cell_type": "code",
   "execution_count": 25,
   "metadata": {},
   "outputs": [
    {
     "data": {
      "text/plain": [
       "40.0"
      ]
     },
     "execution_count": 25,
     "metadata": {},
     "output_type": "execute_result"
    }
   ],
   "source": [
    "avg_distance = sum([summary.average_distance for summary in emissions_summaries]) / len(emissions_summaries)\n",
    "avg_distance"
   ]
  },
  {
   "cell_type": "code",
   "execution_count": 26,
   "metadata": {},
   "outputs": [],
   "source": [
    "from dataclasses import dataclass\n",
    "\n",
    "@dataclass\n",
    "class Cool:\n",
    "    number: int\n",
    "\n",
    "    def __init__(self, number: int):\n",
    "        self.number = number * 2"
   ]
  },
  {
   "cell_type": "code",
   "execution_count": 27,
   "metadata": {},
   "outputs": [
    {
     "data": {
      "text/plain": [
       "Cool(number=4)"
      ]
     },
     "execution_count": 27,
     "metadata": {},
     "output_type": "execute_result"
    }
   ],
   "source": [
    "cool = Cool(2)\n",
    "cool"
   ]
  },
  {
   "cell_type": "code",
   "execution_count": null,
   "metadata": {},
   "outputs": [],
   "source": []
  }
 ],
 "metadata": {
  "kernelspec": {
   "display_name": ".venv",
   "language": "python",
   "name": "python3"
  },
  "language_info": {
   "codemirror_mode": {
    "name": "ipython",
    "version": 3
   },
   "file_extension": ".py",
   "mimetype": "text/x-python",
   "name": "python",
   "nbconvert_exporter": "python",
   "pygments_lexer": "ipython3",
   "version": "3.10.12"
  }
 },
 "nbformat": 4,
 "nbformat_minor": 2
}
